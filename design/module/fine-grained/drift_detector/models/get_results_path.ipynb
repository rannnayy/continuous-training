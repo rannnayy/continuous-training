{
 "cells": [
  {
   "cell_type": "code",
   "execution_count": 1,
   "metadata": {},
   "outputs": [],
   "source": [
    "import pandas as pd\n",
    "import numpy as np\n",
    "import os"
   ]
  },
  {
   "cell_type": "code",
   "execution_count": 7,
   "metadata": {
    "vscode": {
     "languageId": "shellscript"
    }
   },
   "outputs": [
    {
     "name": "stdout",
     "output_type": "stream",
     "text": [
      "/mnt/extra/continuous-training/results/1716388630504083316/drift_data.csv\n",
      "/mnt/extra/continuous-training/results/1715800932305356174/drift_data.csv\n",
      "/mnt/extra/continuous-training/results/1715797440000861620/drift_data.csv\n",
      "/mnt/extra/continuous-training/results/1716427246319181846/drift_data.csv\n",
      "/mnt/extra/continuous-training/results/1716441905776072185/drift_data.csv\n",
      "/mnt/extra/continuous-training/results/1716367842823362017/drift_data.csv\n",
      "/mnt/extra/continuous-training/results/1715829270852093274/drift_data.csv\n",
      "/mnt/extra/continuous-training/results/1715824045022882806/drift_data.csv\n",
      "/mnt/extra/continuous-training/results/1716379033163021455/drift_data.csv\n",
      "/mnt/extra/continuous-training/results/1716212459629080525/drift_data.csv\n",
      "/mnt/extra/continuous-training/results/1716243487037497021/drift_data.csv\n",
      "/mnt/extra/continuous-training/results/1715788174518859352/drift_data.csv\n",
      "/mnt/extra/continuous-training/results/1715798673120208944/drift_data.csv\n",
      "/mnt/extra/continuous-training/results/1715726425533025179/drift_data.csv\n",
      "/mnt/extra/continuous-training/results/1716460302382630009/drift_data.csv\n",
      "/mnt/extra/continuous-training/results/1715827831526188263/drift_data.csv\n",
      "/mnt/extra/continuous-training/results/1716198158046891789/drift_data.csv\n",
      "/mnt/extra/continuous-training/results/1716295246796068485/drift_data.csv\n",
      "/mnt/extra/continuous-training/results/1716294228837958380/drift_data.csv\n",
      "/mnt/extra/continuous-training/results/1715784179206269278/drift_data.csv\n",
      "/mnt/extra/continuous-training/results/1715826410660371920/drift_data.csv\n",
      "/mnt/extra/continuous-training/results/1716346809929177293/drift_data.csv\n",
      "/mnt/extra/continuous-training/results/1715797482983971494/drift_data.csv\n",
      "/mnt/extra/continuous-training/results/1715831605658106103/drift_data.csv\n",
      "/mnt/extra/continuous-training/results/1716284496311271620/drift_data.csv\n",
      "/mnt/extra/continuous-training/results/1715787184529834842/drift_data.csv\n",
      "/mnt/extra/continuous-training/results/1715784577195353505/drift_data.csv\n",
      "/mnt/extra/continuous-training/results/1715824912969658937/drift_data.csv\n",
      "/mnt/extra/continuous-training/results/1716222643830117930/drift_data.csv\n",
      "/mnt/extra/continuous-training/results/1716232409591245915/drift_data.csv\n",
      "/mnt/extra/continuous-training/results/1716306973329212172/drift_data.csv\n"
     ]
    }
   ],
   "source": [
    "! cd \"/mnt/extra/continuous-training/results\" && find ~+ -type f -name \"drift_data.csv\""
   ]
  },
  {
   "cell_type": "markdown",
   "metadata": {},
   "source": [
    "## Copy the result from above cell, paste to below variable"
   ]
  },
  {
   "cell_type": "code",
   "execution_count": null,
   "metadata": {},
   "outputs": [],
   "source": [
    "PATHS = [\n",
    "    \"/mnt/extra/continuous-training/results/1716388630504083316/drift_data.csv\",\n",
    "    \"/mnt/extra/continuous-training/results/1715800932305356174/drift_data.csv\",\n",
    "    \"/mnt/extra/continuous-training/results/1715797440000861620/drift_data.csv\",\n",
    "    \"/mnt/extra/continuous-training/results/1716427246319181846/drift_data.csv\",\n",
    "    \"/mnt/extra/continuous-training/results/1716441905776072185/drift_data.csv\",\n",
    "    \"/mnt/extra/continuous-training/results/1716367842823362017/drift_data.csv\",\n",
    "    \"/mnt/extra/continuous-training/results/1715829270852093274/drift_data.csv\",\n",
    "    \"/mnt/extra/continuous-training/results/1715824045022882806/drift_data.csv\",\n",
    "    \"/mnt/extra/continuous-training/results/1716379033163021455/drift_data.csv\",\n",
    "    \"/mnt/extra/continuous-training/results/1716212459629080525/drift_data.csv\",\n",
    "    \"/mnt/extra/continuous-training/results/1716243487037497021/drift_data.csv\",\n",
    "    \"/mnt/extra/continuous-training/results/1715788174518859352/drift_data.csv\",\n",
    "    \"/mnt/extra/continuous-training/results/1715798673120208944/drift_data.csv\",\n",
    "    \"/mnt/extra/continuous-training/results/1715726425533025179/drift_data.csv\",\n",
    "    \"/mnt/extra/continuous-training/results/1716460302382630009/drift_data.csv\",\n",
    "    \"/mnt/extra/continuous-training/results/1715827831526188263/drift_data.csv\",\n",
    "    \"/mnt/extra/continuous-training/results/1716198158046891789/drift_data.csv\",\n",
    "    \"/mnt/extra/continuous-training/results/1716295246796068485/drift_data.csv\",\n",
    "    \"/mnt/extra/continuous-training/results/1716294228837958380/drift_data.csv\",\n",
    "    \"/mnt/extra/continuous-training/results/1715784179206269278/drift_data.csv\",\n",
    "    \"/mnt/extra/continuous-training/results/1715826410660371920/drift_data.csv\",\n",
    "    \"/mnt/extra/continuous-training/results/1716346809929177293/drift_data.csv\",\n",
    "    \"/mnt/extra/continuous-training/results/1715797482983971494/drift_data.csv\",\n",
    "    \"/mnt/extra/continuous-training/results/1715831605658106103/drift_data.csv\",\n",
    "    \"/mnt/extra/continuous-training/results/1716284496311271620/drift_data.csv\",\n",
    "    \"/mnt/extra/continuous-training/results/1715787184529834842/drift_data.csv\",\n",
    "    \"/mnt/extra/continuous-training/results/1715784577195353505/drift_data.csv\",\n",
    "    \"/mnt/extra/continuous-training/results/1715824912969658937/drift_data.csv\",\n",
    "    \"/mnt/extra/continuous-training/results/1716222643830117930/drift_data.csv\",\n",
    "    \"/mnt/extra/continuous-training/results/1716232409591245915/drift_data.csv\",\n",
    "    \"/mnt/extra/continuous-training/results/1716306973329212172/drift_data.csv\",\n",
    "]"
   ]
  }
 ],
 "metadata": {
  "kernelspec": {
   "display_name": "flashnet-explore-env",
   "language": "python",
   "name": "python3"
  },
  "language_info": {
   "codemirror_mode": {
    "name": "ipython",
    "version": 3
   },
   "file_extension": ".py",
   "mimetype": "text/x-python",
   "name": "python",
   "nbconvert_exporter": "python",
   "pygments_lexer": "ipython3",
   "version": "3.8.19"
  }
 },
 "nbformat": 4,
 "nbformat_minor": 2
}
